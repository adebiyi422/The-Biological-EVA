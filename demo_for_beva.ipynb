{
 "cells": [
  {
   "cell_type": "markdown",
   "metadata": {},
   "source": [
    "**PROJECT DATA ANALYSIS WITH THE BIOLOGICAL EVA™**\n",
    "\n",
    "**SECTION 1 - BUSINESS UNDERSTANDING** In this notebook, we will analyze the data collected from the Biological EVA device in distinguishing between normal human urine, infected human urine and a control gas over two days. We will investigate if data collected from our sensors was successful in telling the difference between these three groups, if our model can be used on data collected on a different day, and if we're able to condense our data into less features to improve the performance of our model? \n",
    "\n",
    "Can the Biological EVA™ (BEVA) really smell bacteria in urine?\n",
    "\n"
   ]
  },
  {
   "cell_type": "markdown",
   "metadata": {},
   "source": [
    "**QUESTION 1**: Are the sensors we are using effective in distinguishing between normal human urine, infected human urine, and lab air? "
   ]
  },
  {
   "cell_type": "markdown",
   "metadata": {},
   "source": [
    "**QUESTION 2:** Can we build a predictive classification model that can tell the difference between data collected on one day and tested on another?"
   ]
  },
  {
   "cell_type": "markdown",
   "metadata": {},
   "source": [
    "**QUESTION 3:** Would condensing our data to be more efficient improve our model?"
   ]
  },
  {
   "cell_type": "code",
   "execution_count": 1,
   "metadata": {},
   "outputs": [],
   "source": [
    "#Import all dependencies and files\n",
    "import numpy as np\n",
    "import pandas as pd\n",
    "import matplotlib.pyplot as plt\n",
    "from xgboost import XGBClassifier\n",
    "from sklearn.linear_model import LinearRegression\n",
    "from sklearn.model_selection import train_test_split\n",
    "from sklearn.metrics import r2_score, mean_squared_error, accuracy_score\n",
    "import seaborn as sns\n",
    "from sklearn import preprocessing\n",
    "from sklearn.decomposition import PCA\n",
    "from sklearn.cluster import KMeans\n",
    "import bevafun as b\n",
    "%matplotlib inline "
   ]
  },
  {
   "cell_type": "markdown",
   "metadata": {},
   "source": [
    "**SECTION 2 - DATA GATHERING AND UNDERSTANDING**"
   ]
  },
  {
   "cell_type": "markdown",
   "metadata": {},
   "source": [
    "\n",
    "In this step we will import the preprocessed features from sensors collected over two day (Days 1 and 2). The data contains no missing or null values, as it has already been preproccessed. Day 1 will represent  our Model Dataset and Day 2 is our holdout dataset. There should be 118 features and 1 label for each example. We will also perform some descriptive statistics to give us a range of values to expect from each feature position. "
   ]
  },
  {
   "cell_type": "code",
   "execution_count": 2,
   "metadata": {},
   "outputs": [
    {
     "data": {
      "text/html": [
       "<div>\n",
       "<style scoped>\n",
       "    .dataframe tbody tr th:only-of-type {\n",
       "        vertical-align: middle;\n",
       "    }\n",
       "\n",
       "    .dataframe tbody tr th {\n",
       "        vertical-align: top;\n",
       "    }\n",
       "\n",
       "    .dataframe thead th {\n",
       "        text-align: right;\n",
       "    }\n",
       "</style>\n",
       "<table border=\"1\" class=\"dataframe\">\n",
       "  <thead>\n",
       "    <tr style=\"text-align: right;\">\n",
       "      <th></th>\n",
       "      <th>0</th>\n",
       "      <th>1</th>\n",
       "      <th>2</th>\n",
       "      <th>3</th>\n",
       "      <th>4</th>\n",
       "      <th>5</th>\n",
       "      <th>6</th>\n",
       "      <th>7</th>\n",
       "      <th>8</th>\n",
       "      <th>9</th>\n",
       "      <th>...</th>\n",
       "      <th>109</th>\n",
       "      <th>110</th>\n",
       "      <th>111</th>\n",
       "      <th>112</th>\n",
       "      <th>113</th>\n",
       "      <th>114</th>\n",
       "      <th>115</th>\n",
       "      <th>116</th>\n",
       "      <th>117</th>\n",
       "      <th>118</th>\n",
       "    </tr>\n",
       "  </thead>\n",
       "  <tbody>\n",
       "    <tr>\n",
       "      <th>0</th>\n",
       "      <td>99352.966292</td>\n",
       "      <td>59361.617978</td>\n",
       "      <td>131881.415730</td>\n",
       "      <td>507361.853933</td>\n",
       "      <td>942231.808989</td>\n",
       "      <td>-1259.168539</td>\n",
       "      <td>-129.146067</td>\n",
       "      <td>2488.808989</td>\n",
       "      <td>5145.471910</td>\n",
       "      <td>4280.134831</td>\n",
       "      <td>...</td>\n",
       "      <td>2.569066e+07</td>\n",
       "      <td>5.889510e+07</td>\n",
       "      <td>5.768402e+07</td>\n",
       "      <td>5.699499e+07</td>\n",
       "      <td>1812.949153</td>\n",
       "      <td>911698.949153</td>\n",
       "      <td>-43741.152542</td>\n",
       "      <td>-22072.406780</td>\n",
       "      <td>-7006.101695</td>\n",
       "      <td>1</td>\n",
       "    </tr>\n",
       "    <tr>\n",
       "      <th>1</th>\n",
       "      <td>99714.966292</td>\n",
       "      <td>59520.438202</td>\n",
       "      <td>132093.112360</td>\n",
       "      <td>508313.595506</td>\n",
       "      <td>943609.078652</td>\n",
       "      <td>-1259.797753</td>\n",
       "      <td>-129.797753</td>\n",
       "      <td>2493.887640</td>\n",
       "      <td>5163.314607</td>\n",
       "      <td>4290.359551</td>\n",
       "      <td>...</td>\n",
       "      <td>2.569655e+07</td>\n",
       "      <td>5.896026e+07</td>\n",
       "      <td>5.797968e+07</td>\n",
       "      <td>5.714938e+07</td>\n",
       "      <td>864.813559</td>\n",
       "      <td>926417.779661</td>\n",
       "      <td>-16853.016949</td>\n",
       "      <td>-23560.406780</td>\n",
       "      <td>-38073.152542</td>\n",
       "      <td>1</td>\n",
       "    </tr>\n",
       "    <tr>\n",
       "      <th>2</th>\n",
       "      <td>99791.741573</td>\n",
       "      <td>59581.089888</td>\n",
       "      <td>132374.112360</td>\n",
       "      <td>509283.112360</td>\n",
       "      <td>945116.415730</td>\n",
       "      <td>-1260.561798</td>\n",
       "      <td>-129.056180</td>\n",
       "      <td>2503.505618</td>\n",
       "      <td>5163.314607</td>\n",
       "      <td>4176.674157</td>\n",
       "      <td>...</td>\n",
       "      <td>2.573248e+07</td>\n",
       "      <td>5.906839e+07</td>\n",
       "      <td>5.796579e+07</td>\n",
       "      <td>5.714368e+07</td>\n",
       "      <td>1457.898305</td>\n",
       "      <td>920667.830508</td>\n",
       "      <td>-15902.033898</td>\n",
       "      <td>-8016.474576</td>\n",
       "      <td>14087.661017</td>\n",
       "      <td>1</td>\n",
       "    </tr>\n",
       "    <tr>\n",
       "      <th>3</th>\n",
       "      <td>66471.764045</td>\n",
       "      <td>41606.348315</td>\n",
       "      <td>88757.764045</td>\n",
       "      <td>313253.764045</td>\n",
       "      <td>563088.865169</td>\n",
       "      <td>-779.831461</td>\n",
       "      <td>-75.370787</td>\n",
       "      <td>1570.022472</td>\n",
       "      <td>2976.988764</td>\n",
       "      <td>2444.258427</td>\n",
       "      <td>...</td>\n",
       "      <td>2.298417e+07</td>\n",
       "      <td>5.271689e+07</td>\n",
       "      <td>5.148060e+07</td>\n",
       "      <td>5.053949e+07</td>\n",
       "      <td>1893.779661</td>\n",
       "      <td>832709.423729</td>\n",
       "      <td>-12715.525424</td>\n",
       "      <td>-14353.152542</td>\n",
       "      <td>4137.830508</td>\n",
       "      <td>1</td>\n",
       "    </tr>\n",
       "    <tr>\n",
       "      <th>4</th>\n",
       "      <td>69498.044944</td>\n",
       "      <td>43300.966292</td>\n",
       "      <td>92641.359551</td>\n",
       "      <td>329773.696629</td>\n",
       "      <td>597765.011236</td>\n",
       "      <td>-822.955056</td>\n",
       "      <td>-82.067416</td>\n",
       "      <td>1654.629213</td>\n",
       "      <td>3156.258427</td>\n",
       "      <td>2567.629213</td>\n",
       "      <td>...</td>\n",
       "      <td>2.341512e+07</td>\n",
       "      <td>5.368246e+07</td>\n",
       "      <td>5.241974e+07</td>\n",
       "      <td>5.136973e+07</td>\n",
       "      <td>1075.915254</td>\n",
       "      <td>850548.677966</td>\n",
       "      <td>-19853.559322</td>\n",
       "      <td>-17908.135593</td>\n",
       "      <td>-13451.118644</td>\n",
       "      <td>1</td>\n",
       "    </tr>\n",
       "  </tbody>\n",
       "</table>\n",
       "<p>5 rows × 119 columns</p>\n",
       "</div>"
      ],
      "text/plain": [
       "            0             1              2              3              4    \\\n",
       "0  99352.966292  59361.617978  131881.415730  507361.853933  942231.808989   \n",
       "1  99714.966292  59520.438202  132093.112360  508313.595506  943609.078652   \n",
       "2  99791.741573  59581.089888  132374.112360  509283.112360  945116.415730   \n",
       "3  66471.764045  41606.348315   88757.764045  313253.764045  563088.865169   \n",
       "4  69498.044944  43300.966292   92641.359551  329773.696629  597765.011236   \n",
       "\n",
       "           5           6            7            8            9    ...  \\\n",
       "0 -1259.168539 -129.146067  2488.808989  5145.471910  4280.134831  ...   \n",
       "1 -1259.797753 -129.797753  2493.887640  5163.314607  4290.359551  ...   \n",
       "2 -1260.561798 -129.056180  2503.505618  5163.314607  4176.674157  ...   \n",
       "3  -779.831461  -75.370787  1570.022472  2976.988764  2444.258427  ...   \n",
       "4  -822.955056  -82.067416  1654.629213  3156.258427  2567.629213  ...   \n",
       "\n",
       "            109           110           111           112          113  \\\n",
       "0  2.569066e+07  5.889510e+07  5.768402e+07  5.699499e+07  1812.949153   \n",
       "1  2.569655e+07  5.896026e+07  5.797968e+07  5.714938e+07   864.813559   \n",
       "2  2.573248e+07  5.906839e+07  5.796579e+07  5.714368e+07  1457.898305   \n",
       "3  2.298417e+07  5.271689e+07  5.148060e+07  5.053949e+07  1893.779661   \n",
       "4  2.341512e+07  5.368246e+07  5.241974e+07  5.136973e+07  1075.915254   \n",
       "\n",
       "             114           115           116           117  118  \n",
       "0  911698.949153 -43741.152542 -22072.406780  -7006.101695    1  \n",
       "1  926417.779661 -16853.016949 -23560.406780 -38073.152542    1  \n",
       "2  920667.830508 -15902.033898  -8016.474576  14087.661017    1  \n",
       "3  832709.423729 -12715.525424 -14353.152542   4137.830508    1  \n",
       "4  850548.677966 -19853.559322 -17908.135593 -13451.118644    1  \n",
       "\n",
       "[5 rows x 119 columns]"
      ]
     },
     "execution_count": 2,
     "metadata": {},
     "output_type": "execute_result"
    }
   ],
   "source": [
    "#Load the Data Sources (Day 1 and 2)\n",
    "df_day1 = pd.read_csv('./data/BEVA_Day1.csv', header=None)\n",
    "df_day1.head()\n",
    "\n",
    "df_day2 = pd.read_csv('./data/BEVA_Day2.csv', header=None)\n",
    "df_day2.head()"
   ]
  },
  {
   "cell_type": "markdown",
   "metadata": {},
   "source": [
    "**DATA UNDERSTANDING** Some descriptive statistics about the datasets"
   ]
  },
  {
   "cell_type": "code",
   "execution_count": null,
   "metadata": {},
   "outputs": [],
   "source": [
    "df_day1.describe()\n",
    "df_day2.describe()"
   ]
  },
  {
   "cell_type": "markdown",
   "metadata": {},
   "source": [
    "**DATA PREPARATION**\n",
    "\n",
    "Changing the datatype of the values to float. Some data manipulation to read the data as matrices for easier use. We are also separating matrices into labels and features. "
   ]
  },
  {
   "cell_type": "code",
   "execution_count": 4,
   "metadata": {},
   "outputs": [],
   "source": [
    "df_day1= df_day1.astype('float')\n",
    "day1_mat=df_day1.to_numpy()\n",
    "\n",
    "\n",
    "day1_X=day1_mat[:,:-1]\n",
    "day1_Y=day1_mat[:,-1]\n",
    "\n",
    "df_day2= df_day2.astype('float')\n",
    "day2_mat=df_day2.to_numpy()\n",
    "\n",
    "\n",
    "day2_X=day2_mat[:,:-1]\n",
    "day2_Y=day2_mat[:,-1]"
   ]
  },
  {
   "cell_type": "markdown",
   "metadata": {},
   "source": [
    "**QUESTION 1**: Are the sensors we are using effective in distinguishing between normal human urine, infected human urine, and lab air? "
   ]
  },
  {
   "cell_type": "markdown",
   "metadata": {},
   "source": [
    "In order to answer this question we will visualize our dataset as clusters or \"point clouds.\" Since we have so many data points, we will condense it using the Principal Component Analysis technique so we can visualize on an axis. If we are able to capture enough variance in our components and visualize these groups clearly on a set of axes, then the sensors we are using are good for this task!"
   ]
  },
  {
   "cell_type": "markdown",
   "metadata": {},
   "source": [
    "Using the function from the BEVAFUN folder, we will pass the matrix which will be mormalized, then the variance will be calculated and displayed, returning the data frame for further handling. "
   ]
  },
  {
   "cell_type": "code",
   "execution_count": 5,
   "metadata": {},
   "outputs": [
    {
     "data": {
      "image/png": "[encoded data removed]",
      "text/plain": [
       "<Figure size 432x288 with 1 Axes>"
      ]
     },
     "metadata": {
      "needs_background": "light"
     },
     "output_type": "display_data"
    }
   ],
   "source": [
    "pc_df=b.pca_prep_plot(day1_mat)"
   ]
  },
  {
   "cell_type": "markdown",
   "metadata": {},
   "source": [
    "The data from the PCA shows that we are able to condense our 118 features into 3 components while keeping the variance, that is promising! Now let us visualize this, if we see three distinct groups without overlap, then our sensors can tell this difference!"
   ]
  },
  {
   "cell_type": "code",
   "execution_count": null,
   "metadata": {},
   "outputs": [],
   "source": [
    "sns.lmplot(x=\"PC1\", y=\"PC2\",\n",
    "           data=pc_df, \n",
    "           fit_reg=False, \n",
    "           hue='Cluster', #label clusters with color\n",
    "           legend=True,\n",
    "           scatter_kws={\"s\": 100}) #point size "
   ]
  },
  {
   "cell_type": "markdown",
   "metadata": {},
   "source": [
    "We can see that there are three distinct clusters between Clusters 1 - Lab Air, 2 - Normal Human Urine, 3 - Infected Human Urine, therefore the selection of sensors are good for this task! "
   ]
  },
  {
   "cell_type": "markdown",
   "metadata": {},
   "source": [
    "**QUESTION 2** - Can we build a predictive classification model that can tell the difference between data collected on one day and tested on another?"
   ]
  },
  {
   "cell_type": "markdown",
   "metadata": {},
   "source": [
    "Using our data collected from Day 1, we will train a classification model using the XGBOOST package and test it on an unseen dataset collected in the future (Day 2) to see if our data can tell the difference between these two days"
   ]
  },
  {
   "cell_type": "markdown",
   "metadata": {},
   "source": [
    "**BUILD DAY 1 MODEL using 118 features**"
   ]
  },
  {
   "cell_type": "code",
   "execution_count": null,
   "metadata": {},
   "outputs": [],
   "source": [
    "le = preprocessing.LabelEncoder()\n",
    "y_train = le.fit_transform(day1_Y)\n",
    "model = XGBClassifier()\n",
    "model.fit(day1_X,day1_Y)\n",
    "print(model)"
   ]
  },
  {
   "cell_type": "markdown",
   "metadata": {},
   "source": [
    "**TEST ON DATA FROM DAY 2**"
   ]
  },
  {
   "cell_type": "code",
   "execution_count": null,
   "metadata": {},
   "outputs": [],
   "source": [
    "#do some predictive modeling\n",
    "\n",
    "y_pred=model.predict(day2_X)\n",
    "predictions = [round(value) for value in y_pred]\n",
    "\n",
    "y_test = day2_Y\n",
    "accuracy= accuracy_score(y_test, predictions)\n",
    "print(\"Accuracy: %.2f%%\" % (accuracy * 100.0))"
   ]
  },
  {
   "cell_type": "markdown",
   "metadata": {},
   "source": [
    "The model we created with our Day 1 dataset is able to classify data from Day 2 with > 85% accuracy! That means the models we build can work pretty well with data collected on a different day, and can be stable and efficient."
   ]
  },
  {
   "cell_type": "markdown",
   "metadata": {},
   "source": [
    "**QUESTION 3** Would condensing our data to be more efficient improve our model?"
   ]
  },
  {
   "cell_type": "markdown",
   "metadata": {},
   "source": [
    "We have condensed our data previously with the PCA technique, now we will build a model with this data and test our condensed day 2 data to see if it will improve the accuracy of our model."
   ]
  },
  {
   "cell_type": "code",
   "execution_count": null,
   "metadata": {},
   "outputs": [],
   "source": [
    "model.fit(day1_pca,day1_Y)\n",
    "print(model)\n",
    "\n",
    "min_max_scaler = preprocessing.StandardScaler()\n",
    "day2np_norm = min_max_scaler.fit_transform(day2_mat)\n",
    "day2_df= pd.DataFrame(day2np_norm)\n",
    "\n",
    "#PCA reduce to 2-3 important features \n",
    "pca = PCA(n_components=3)\n",
    "day2_pca = pca.fit_transform(day2_df)\n",
    "\n",
    "y_pred=model.predict(day2_pca)\n",
    "predictions = [round(value) for value in y_pred]\n",
    "\n",
    "#y_test = le.fit_transform(day2_Y)\n",
    "y_test = day2_Y\n",
    "accuracy= accuracy_score(y_test, predictions)\n",
    "print(\"Accuracy: %.2f%%\" % (accuracy * 100.0))"
   ]
  },
  {
   "cell_type": "markdown",
   "metadata": {},
   "source": [
    "Using condensation techniques, the performance of our model improved! That means that condensing the variation and improving the efficiency by reducing the number of features is helpful in stabilizing our model to be tested on data collected over multiple days. \n"
   ]
  }
 ],
 "metadata": {
  "kernelspec": {
   "display_name": "base",
   "language": "python",
   "name": "python3"
  },
  "language_info": {
   "codemirror_mode": {
    "name": "ipython",
    "version": 3
   },
   "file_extension": ".py",
   "mimetype": "text/x-python",
   "name": "python",
   "nbconvert_exporter": "python",
   "pygments_lexer": "ipython3",
   "version": "3.8.8"
  },
  "orig_nbformat": 4
 },
 "nbformat": 4,
 "nbformat_minor": 2
}
